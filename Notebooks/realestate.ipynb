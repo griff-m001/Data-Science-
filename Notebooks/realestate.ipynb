{
 "cells": [
  {
   "cell_type": "code",
   "execution_count": 26,
   "metadata": {},
   "outputs": [
    {
     "data": {
      "text/html": [
       "<div>\n",
       "<style scoped>\n",
       "    .dataframe tbody tr th:only-of-type {\n",
       "        vertical-align: middle;\n",
       "    }\n",
       "\n",
       "    .dataframe tbody tr th {\n",
       "        vertical-align: top;\n",
       "    }\n",
       "\n",
       "    .dataframe thead th {\n",
       "        text-align: right;\n",
       "    }\n",
       "</style>\n",
       "<table border=\"1\" class=\"dataframe\">\n",
       "  <thead>\n",
       "    <tr style=\"text-align: right;\">\n",
       "      <th></th>\n",
       "      <th>Unnamed: 0</th>\n",
       "      <th>Bedrooms</th>\n",
       "      <th>Bathrooms</th>\n",
       "      <th>Size</th>\n",
       "      <th>Price</th>\n",
       "    </tr>\n",
       "  </thead>\n",
       "  <tbody>\n",
       "    <tr>\n",
       "      <th>0</th>\n",
       "      <td>0</td>\n",
       "      <td>3</td>\n",
       "      <td>3</td>\n",
       "      <td>2371</td>\n",
       "      <td>795000</td>\n",
       "    </tr>\n",
       "    <tr>\n",
       "      <th>1</th>\n",
       "      <td>1</td>\n",
       "      <td>4</td>\n",
       "      <td>3</td>\n",
       "      <td>2818</td>\n",
       "      <td>399000</td>\n",
       "    </tr>\n",
       "    <tr>\n",
       "      <th>2</th>\n",
       "      <td>2</td>\n",
       "      <td>4</td>\n",
       "      <td>3</td>\n",
       "      <td>3032</td>\n",
       "      <td>545000</td>\n",
       "    </tr>\n",
       "    <tr>\n",
       "      <th>3</th>\n",
       "      <td>3</td>\n",
       "      <td>4</td>\n",
       "      <td>4</td>\n",
       "      <td>3540</td>\n",
       "      <td>909000</td>\n",
       "    </tr>\n",
       "    <tr>\n",
       "      <th>4</th>\n",
       "      <td>4</td>\n",
       "      <td>3</td>\n",
       "      <td>1</td>\n",
       "      <td>1249</td>\n",
       "      <td>109900</td>\n",
       "    </tr>\n",
       "    <tr>\n",
       "      <th>...</th>\n",
       "      <td>...</td>\n",
       "      <td>...</td>\n",
       "      <td>...</td>\n",
       "      <td>...</td>\n",
       "      <td>...</td>\n",
       "    </tr>\n",
       "    <tr>\n",
       "      <th>776</th>\n",
       "      <td>776</td>\n",
       "      <td>3</td>\n",
       "      <td>3</td>\n",
       "      <td>1605</td>\n",
       "      <td>319900</td>\n",
       "    </tr>\n",
       "    <tr>\n",
       "      <th>777</th>\n",
       "      <td>777</td>\n",
       "      <td>3</td>\n",
       "      <td>2</td>\n",
       "      <td>1877</td>\n",
       "      <td>495000</td>\n",
       "    </tr>\n",
       "    <tr>\n",
       "      <th>778</th>\n",
       "      <td>778</td>\n",
       "      <td>3</td>\n",
       "      <td>2</td>\n",
       "      <td>1104</td>\n",
       "      <td>372000</td>\n",
       "    </tr>\n",
       "    <tr>\n",
       "      <th>779</th>\n",
       "      <td>779</td>\n",
       "      <td>3</td>\n",
       "      <td>2</td>\n",
       "      <td>1975</td>\n",
       "      <td>589000</td>\n",
       "    </tr>\n",
       "    <tr>\n",
       "      <th>780</th>\n",
       "      <td>780</td>\n",
       "      <td>3</td>\n",
       "      <td>3</td>\n",
       "      <td>2392</td>\n",
       "      <td>1100000</td>\n",
       "    </tr>\n",
       "  </tbody>\n",
       "</table>\n",
       "<p>781 rows × 5 columns</p>\n",
       "</div>"
      ],
      "text/plain": [
       "     Unnamed: 0  Bedrooms  Bathrooms  Size    Price\n",
       "0             0         3          3  2371   795000\n",
       "1             1         4          3  2818   399000\n",
       "2             2         4          3  3032   545000\n",
       "3             3         4          4  3540   909000\n",
       "4             4         3          1  1249   109900\n",
       "..          ...       ...        ...   ...      ...\n",
       "776         776         3          3  1605   319900\n",
       "777         777         3          2  1877   495000\n",
       "778         778         3          2  1104   372000\n",
       "779         779         3          2  1975   589000\n",
       "780         780         3          3  2392  1100000\n",
       "\n",
       "[781 rows x 5 columns]"
      ]
     },
     "execution_count": 26,
     "metadata": {},
     "output_type": "execute_result"
    }
   ],
   "source": [
    "import pandas\n",
    "file = pandas.read_csv(\"realestate.csv\")\n",
    "file"
   ]
  },
  {
   "cell_type": "code",
   "execution_count": 27,
   "metadata": {},
   "outputs": [],
   "source": [
    "filearray = file.values\n",
    "X = filearray[:, 0:4]\n",
    "Y = filearray[:, 4]\n"
   ]
  },
  {
   "cell_type": "code",
   "execution_count": 28,
   "metadata": {},
   "outputs": [],
   "source": [
    "from sklearn import model_selection\n",
    "X_train, X_test, Y_train, Y_test = model_selection.train_test_split(X,Y, test_size=(30/100), random_state=42)"
   ]
  },
  {
   "cell_type": "code",
   "execution_count": 29,
   "metadata": {},
   "outputs": [
    {
     "name": "stdout",
     "output_type": "stream",
     "text": [
      "Dtrees result =  0.2190030538729661\n",
      "KNC result =  0.45109331137317515\n",
      "Random Forest result =  0.5036077109975743\n",
      "Linear reg result =  0.49786776040134945\n"
     ]
    }
   ],
   "source": [
    "from sklearn.linear_model import LinearRegression\n",
    "from sklearn.tree import DecisionTreeRegressor\n",
    "from sklearn.neighbors import KNeighborsRegressor\n",
    "from sklearn.ensemble import RandomForestRegressor\n",
    "\n",
    "models = []\n",
    "models.append(('Dtrees', DecisionTreeRegressor()))\n",
    "models.append(('KNC', KNeighborsRegressor()))\n",
    "models.append(('Random Forest', RandomForestRegressor()))\n",
    "models.append(('Linear reg', LinearRegression()))\n",
    "\n",
    "from sklearn.model_selection import cross_val_score, KFold\n",
    "\n",
    "\n",
    "for name, model in models:\n",
    "    kfold = KFold(n_splits = 10, random_state=42, shuffle=True )\n",
    "    cv_results = cross_val_score(model, X_train, Y_train, cv=kfold, scoring='r2')\n",
    "\n",
    "    print(name, 'result = ', cv_results.mean())\n",
    "\n",
    "\n"
   ]
  },
  {
   "cell_type": "code",
   "execution_count": 30,
   "metadata": {},
   "outputs": [
    {
     "name": "stdout",
     "output_type": "stream",
     "text": [
      "Model predicted [ 224425.    238626.6   286299.   1665141.    304565.    982835.\n",
      "  208099.9   182946.    342514.    209319.    232164.   1715649.\n",
      "  244267.    942037.    844109.    148819.    165256.    274664.\n",
      "  369909.95  730273.    341813.89  150099.    390069.    183965.4\n",
      "  243238.5   343885.    246770.   1597584.    274208.6   258525.\n",
      " 1015557.    482657.88  182059.5   294357.7   310238.    223483.\n",
      "  382147.    198442.    213231.    271706.    181104.    584889.\n",
      "  221849.   1762059.    700562.    358116.    366956.    440221.\n",
      "  321828.5   677658.    282179.    403785.    414772.    573718.7\n",
      "  242016.    442298.    274659.5   503832.5   405955.    203919.2\n",
      "  879400.    356814.95  201355.    261025.5   336664.    306108.\n",
      "  607008.    243522.9   175170.3   284275.5   227245.    386937.\n",
      "  169291.9   352746.    209970.    390022.    190185.    258652.\n",
      "  168164.    292555.    274530.    997639.    220475.    335666.8\n",
      "  177245.8   220575.    201941.    265226.    182069.    203556.9\n",
      "  344194.67  291199.7   242185.    404587.95  443525.    724800.\n",
      "  231429.    473436.    324436.    702605.    273271.    188190.3\n",
      "  243706.5   282642.9   295107.    273062.5   259809.    263195.\n",
      "  146681.    345057.    165892.    387731.7   452220.6   325835.\n",
      "  180633.    481190.7   704860.    315404.15  179534.    257224.\n",
      "  504529.    198024.8   132935.    703760.    286898.3   745844.\n",
      "  362496.    242594.    253551.    183017.1   704046.    269824.\n",
      "  304914.    248224.    351738.    365276.42  256669.2   368159.\n",
      "  241314.    517878.    226857.    354293.    194116.    194983.4\n",
      "  197045.2   325128.    184077.    344331.    264973.    205653.\n",
      "  488055.    412491.8   346666.    334022.45  246208.    322939.97\n",
      "  553657.   2419138.    307245.    234638.3   175422.    341894.\n",
      "  297746.65 1444783.    286220.    325423.    220711.    557517.\n",
      "  213918.    412111.8   458150.7   299305.    209548.7   253719.\n",
      "  340735.    377834.    275933.    450511.    172535.    292327.\n",
      "  435373.    436868.    465766.25  417128.    188694.    281616.\n",
      "  408155.95  337284.    184094.    358412.    295920.95  503185.\n",
      "  479938.    821195.    531556.    201459.5   238522.5   285703.\n",
      "  299466.    409604.4   178388.    391508.7   357091.99  209690.9\n",
      "  191443.5   528608.    421388.6   333773.5   468319.    207305.5\n",
      "  417525.    192219.    305542.8   390289.7   399532.    279037.6\n",
      "  459000.    307245.    221577.    123242.5   369937.    164752.\n",
      "  900235.    284072.    243815.    363737.    736099.99  488480.\n",
      "  407886.    344700.    400988.95  226157.    344408.    293445.\n",
      "  200956.  ]\n",
      "Expected [ 260000  199900  531905  999000  245000  829900  195000  222600  209000\n",
      "  375000  165000 1195000  225000  774800  349900  359000  279900  195000\n",
      "  299000  750000  239000  150000  259900  158900  200000  325000   67500\n",
      " 1249000  374800  415000  879000  359900  164900  364000   26500  205000\n",
      "  250000  265000  214000  227900   65900  495000  294900  995000  820000\n",
      "  319900  309000  499000  245000 1290000  309900  249500  375000  509000\n",
      "  299900  360000  260000  240000  549000  278000 1799000  279000  349900\n",
      "  389000  219000  350000  641900  199000  145000   54500  249000  525000\n",
      "  199000  259000  222900  429000  154000  379000  174900  299000  255000\n",
      "  425000  177000  189900  199000  179000  325000  475000  289000  125000\n",
      "  269000  299000  225000  350000  219500  830000  459900  550000  230000\n",
      "  285000  220000  125000  774000  385000  275000  350000  329700  189900\n",
      "  149900  185000  274900  249000  409000  599000  119000  389000  625000\n",
      "   99999  140000  355000  402500  193450  540000  899000  175000  648000\n",
      "  469000  219000  249999  435000  449000  490000  159000  215000  529000\n",
      "  355000  289900  325000  304900  545000  211500  695000  210000  256000\n",
      "  310000  695000  264900  235000  179000  169900  575000  315000  495000\n",
      "  350000  299900  310000  179900  699000  839000  199000  325000  294900\n",
      "  440000  245000  229900  359000  199500  875000  499000  419000  399000\n",
      "  329000  479000  219900  191100  199900  197000  899000  129900  289000\n",
      "  349000  649000  179000  320000  105000   99000  595000  275000  179999\n",
      "  399000  290000  310000  795000  650000  645000  519500  170000  250000\n",
      "  205000  235000  214900  489900  337000  335900  389000  899000  825000\n",
      "  192900  449900  249900  409000  299000  163999  309900  369900  170500\n",
      "  399000  779000  264450  170000  239800  275000  559000  229900  385000\n",
      "  339900  789000  299900  409900  400000  215000  165000  286500  250000\n",
      "  134900]\n"
     ]
    }
   ],
   "source": [
    "model = RandomForestRegressor()\n",
    "model.fit(X_train, Y_train)\n",
    "predictions = model.predict(X_test)\n",
    "print(\"Model predicted\", predictions)\n",
    "print(\"Expected\", Y_test)"
   ]
  },
  {
   "cell_type": "code",
   "execution_count": 31,
   "metadata": {},
   "outputs": [
    {
     "name": "stdout",
     "output_type": "stream",
     "text": [
      "The house will cost KES [247834.]\n"
     ]
    }
   ],
   "source": [
    "#Unnamed 0\tBedrooms\tBathrooms\tSize\t\n",
    "\n",
    "priceofhouse = [[20,15,30,5]]\n",
    "outcome = model.predict(priceofhouse)\n",
    "print(\"The house will cost KES\", outcome)"
   ]
  },
  {
   "cell_type": "code",
   "execution_count": 32,
   "metadata": {},
   "outputs": [
    {
     "name": "stdout",
     "output_type": "stream",
     "text": [
      "The house will cost KES [261474.]\n"
     ]
    }
   ],
   "source": [
    "#Unnamed 0\tBedrooms\tBathrooms\tSize\t\n",
    "\n",
    "priceofhouse = [[50,30,17,5]]\n",
    "outcome = model.predict(priceofhouse)\n",
    "print(\"The house will cost KES\", outcome)"
   ]
  }
 ],
 "metadata": {
  "kernelspec": {
   "display_name": "Python 3",
   "language": "python",
   "name": "python3"
  },
  "language_info": {
   "codemirror_mode": {
    "name": "ipython",
    "version": 3
   },
   "file_extension": ".py",
   "mimetype": "text/x-python",
   "name": "python",
   "nbconvert_exporter": "python",
   "pygments_lexer": "ipython3",
   "version": "3.11.2"
  },
  "orig_nbformat": 4
 },
 "nbformat": 4,
 "nbformat_minor": 2
}
